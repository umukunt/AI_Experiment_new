{
 "cells": [
  {
   "cell_type": "code",
   "execution_count": 1,
   "metadata": {},
   "outputs": [
    {
     "data": {
      "text/plain": [
       "4"
      ]
     },
     "execution_count": 1,
     "metadata": {},
     "output_type": "execute_result"
    }
   ],
   "source": [
    "2+2"
   ]
  },
  {
   "cell_type": "code",
   "execution_count": 3,
   "metadata": {},
   "outputs": [
    {
     "data": {
      "text/plain": [
       "True"
      ]
     },
     "execution_count": 3,
     "metadata": {},
     "output_type": "execute_result"
    }
   ],
   "source": [
    "from dotenv import load_dotenv\n",
    "import os\n",
    "from groq import Groq\n",
    "load_dotenv()"
   ]
  },
  {
   "cell_type": "code",
   "execution_count": 6,
   "metadata": {},
   "outputs": [],
   "source": [
    "api_key = os.environ.get('GROQ_API_KEY')"
   ]
  },
  {
   "cell_type": "code",
   "execution_count": 9,
   "metadata": {},
   "outputs": [],
   "source": [
    "client = Groq(api_key=api_key)\n",
    "chat_completion = client.chat.completions.create(\n",
    "    messages=[\n",
    "        {\"role\": \"user\", \"content\": \"Explain the importance of large language models\"}\n",
    "    ],\n",
    "    model=\"llama3-8b-8192\",\n",
    "    temperature=0\n",
    ")\n",
    "\n"
   ]
  },
  {
   "cell_type": "code",
   "execution_count": 11,
   "metadata": {},
   "outputs": [
    {
     "name": "stdout",
     "output_type": "stream",
     "text": [
      "Large language models (LLMs) have revolutionized the field of natural language processing (NLP) and have numerous applications across various industries. The importance of LLMs can be summarized as follows:\n",
      "\n",
      "1. **Improved Language Understanding**: LLMs are trained on vast amounts of text data, enabling them to understand language nuances, idioms, and context better than traditional rule-based systems. This improved understanding enables more accurate text classification, sentiment analysis, and language translation.\n",
      "2. **Enhanced Conversational AI**: LLMs can engage in more natural and human-like conversations, making them suitable for applications like chatbots, virtual assistants, and customer service platforms. This improved conversational AI can lead to better customer experiences and increased customer satisfaction.\n",
      "3. **Content Generation**: LLMs can generate high-quality content, such as articles, blog posts, and social media posts, at scale and speed. This can be particularly useful for content marketing, news organizations, and social media platforms.\n",
      "4. **Language Translation**: LLMs can translate languages more accurately and efficiently than traditional machine translation systems. This can facilitate global communication, commerce, and cultural exchange.\n",
      "5. **Sentiment Analysis and Opinion Mining**: LLMs can analyze large volumes of text data to identify sentiment, opinions, and emotions, enabling businesses to better understand customer feedback and market trends.\n",
      "6. **Text Summarization**: LLMs can summarize long documents, articles, and reports, extracting key information and saving time for readers.\n",
      "7. **Question Answering**: LLMs can answer complex questions by analyzing large amounts of text data, making them useful for applications like search engines, knowledge bases, and educational platforms.\n",
      "8. **Named Entity Recognition**: LLMs can identify and extract specific entities like names, locations, and organizations from text data, enabling applications like information retrieval, data mining, and business intelligence.\n",
      "9. **Part-of-Speech Tagging**: LLMs can identify the parts of speech (e.g., nouns, verbs, adjectives) in text data, facilitating applications like language learning, text analysis, and machine translation.\n",
      "10. **Research and Development**: LLMs can be used as a foundation for developing new NLP applications, such as dialogue systems, text classification, and language generation.\n",
      "11. **Improved Accessibility**: LLMs can enable people with disabilities to communicate more effectively, such as through text-to-speech systems, speech-to-text systems, and language translation tools.\n",
      "12. **Enhanced Customer Experience**: LLMs can be used to personalize customer interactions, provide tailored recommendations, and offer more accurate and relevant responses to customer inquiries.\n",
      "13. **Business Intelligence**: LLMs can analyze large volumes of text data to identify trends, patterns, and insights, enabling businesses to make more informed decisions.\n",
      "14. **Cybersecurity**: LLMs can be used to detect and prevent cyber threats, such as phishing attacks, by analyzing large volumes of text data and identifying suspicious patterns.\n",
      "15. **Education and Learning**: LLMs can be used to develop personalized learning systems, provide real-time feedback, and offer more effective language learning tools.\n",
      "\n",
      "In summary, large language models have the potential to revolutionize various industries and applications, from customer service and content generation to language translation and business intelligence. Their ability to understand and generate human-like language has far-reaching implications for many areas of life.\n"
     ]
    }
   ],
   "source": [
    "print(chat_completion.choices[0].message.content)"
   ]
  },
  {
   "cell_type": "code",
   "execution_count": 20,
   "metadata": {},
   "outputs": [],
   "source": [
    "class dummy_class:\n",
    "    def __init__(self):\n",
    "        print(\"This is constructor\")\n",
    "    \n",
    "    def __call__(self, msg):\n",
    "        print(f\"call function called\\n {msg}\")\n",
    "\n",
    "    def execute(self):\n",
    "        print(\"execute function called\")\n",
    "\n",
    "        "
   ]
  },
  {
   "cell_type": "code",
   "execution_count": 21,
   "metadata": {},
   "outputs": [
    {
     "data": {
      "text/plain": [
       "<__main__.dummy_class at 0x106a24790>"
      ]
     },
     "execution_count": 21,
     "metadata": {},
     "output_type": "execute_result"
    }
   ],
   "source": [
    "obj"
   ]
  },
  {
   "cell_type": "code",
   "execution_count": 22,
   "metadata": {},
   "outputs": [
    {
     "name": "stdout",
     "output_type": "stream",
     "text": [
      "This is constructor\n"
     ]
    }
   ],
   "source": [
    "obj = dummy_class()"
   ]
  },
  {
   "cell_type": "code",
   "execution_count": 23,
   "metadata": {},
   "outputs": [
    {
     "name": "stdout",
     "output_type": "stream",
     "text": [
      "call function called\n",
      " who am I?\n"
     ]
    }
   ],
   "source": [
    "obj(\"who am I?\")"
   ]
  },
  {
   "cell_type": "code",
   "execution_count": 15,
   "metadata": {},
   "outputs": [],
   "source": [
    "class Agent:\n",
    "    def __init__(self, client: Groq, system: str= \"\"):\n",
    "        self.client = client\n",
    "        self.system = system\n",
    "        self.messages: list = []\n",
    "        if self.system:\n",
    "            self.messages.append({\"role\": \"system\", \"content\": system})\n",
    "\n",
    "    def __call__(self, message=\"\"):\n",
    "        if message:\n",
    "            self.messages.append({\"role\": \"user\", \"content\": message})\n",
    "        result = self.execute()\n",
    "        self.messages.append({\"role\": \"assistant\", \"content\": result})\n",
    "        return result\n",
    "    \n",
    "    def execute(self):\n",
    "        completion = client.chat.completions.create(\n",
    "            model=\"llama3-70b-8192\", messages=self.messages\n",
    "        )\n",
    "        return completion.choices[0].message.content\n",
    "        "
   ]
  },
  {
   "cell_type": "code",
   "execution_count": 16,
   "metadata": {},
   "outputs": [],
   "source": [
    "system_prompt = \"\"\"\n",
    "You run in a loop of Thought, Action, PAUSE, Observation.\n",
    "At the end of the loop you output an Answer\n",
    "Use Thought to describe your thoughts about the question you have been asked.\n",
    "Use Action to run one of the actions available to you - then return PAUSE.\n",
    "Observation will be the result of running those actions.\n",
    "\n",
    "Your available actions are:\n",
    "\n",
    "calculate:\n",
    "e.g. calculate: 4 * 7 / 3\n",
    "Runs a calculation and returns the number - uses Python so be sure to use floating point syntax if necessary\n",
    "\n",
    "get_planet_mass:\n",
    "e.g. get_planet_mass: Earth\n",
    "returns weight of the planet in kg\n",
    "\n",
    "Example session:\n",
    "\n",
    "Question: What is the mass of Earth times 2?\n",
    "Thought: I need to find the mass of Earth\n",
    "Action: get_planet_mass: Earth\n",
    "PAUSE \n",
    "\n",
    "You will be called again with this:\n",
    "\n",
    "Observation: 5.972e24\n",
    "\n",
    "Thought: I need to multiply this by 2\n",
    "Action: calculate: 5.972e24 * 2\n",
    "PAUSE\n",
    "\n",
    "You will be called again with this: \n",
    "\n",
    "Observation: 1,1944×10e25\n",
    "\n",
    "If you have the answer, output it as the Answer.\n",
    "\n",
    "Answer: The mass of Earth times 2 is 1,1944×10e25.\n",
    "\n",
    "Now it's your turn:\n",
    "\"\"\".strip()\n",
    "\n",
    "\n",
    "\n"
   ]
  },
  {
   "cell_type": "code",
   "execution_count": 17,
   "metadata": {},
   "outputs": [],
   "source": [
    "\n",
    "def calculate(operation: str) -> float:\n",
    "    return eval(operation)\n",
    "\n",
    "\n",
    "def get_planet_mass(planet) -> float:\n",
    "    if planet == \"earth\":\n",
    "        return 5.972e24\n",
    "    if planet == \"mars\":\n",
    "        return 6.39e23\n",
    "    if planet == \"jupiter\":\n",
    "        return 1.898e27\n",
    "    if planet == \"saturn\":\n",
    "        return 5.683e26\n",
    "    if planet == \"uranus\":\n",
    "        return 8.681e25\n",
    "    if planet == \"neptune\":\n",
    "        return 1.024e26\n",
    "    if planet == \"mercury\":\n",
    "        return 3.285e23\n",
    "    if planet == \"venus\":\n",
    "        return 4.867e24\n",
    "    return None\n"
   ]
  },
  {
   "cell_type": "code",
   "execution_count": 18,
   "metadata": {},
   "outputs": [],
   "source": [
    "agent_obj = Agent(client=client, system= system_prompt)"
   ]
  },
  {
   "cell_type": "code",
   "execution_count": 24,
   "metadata": {},
   "outputs": [],
   "source": [
    "result = agent_obj(\"what is the mass of Mercury times 5\")"
   ]
  },
  {
   "cell_type": "code",
   "execution_count": 25,
   "metadata": {},
   "outputs": [
    {
     "name": "stdout",
     "output_type": "stream",
     "text": [
      "Thought: I need to find the mass of Mercury.\n"
     ]
    }
   ],
   "source": [
    "print(result)"
   ]
  },
  {
   "cell_type": "code",
   "execution_count": 26,
   "metadata": {},
   "outputs": [
    {
     "name": "stdout",
     "output_type": "stream",
     "text": [
      "\n"
     ]
    }
   ],
   "source": [
    "result = agent_obj()\n",
    "print(result)"
   ]
  },
  {
   "cell_type": "code",
   "execution_count": 27,
   "metadata": {},
   "outputs": [
    {
     "data": {
      "text/plain": [
       "3.285e+23"
      ]
     },
     "execution_count": 27,
     "metadata": {},
     "output_type": "execute_result"
    }
   ],
   "source": [
    "get_planet_mass(\"mercury\")"
   ]
  },
  {
   "cell_type": "code",
   "execution_count": 28,
   "metadata": {},
   "outputs": [
    {
     "name": "stdout",
     "output_type": "stream",
     "text": [
      "You run in a loop of Thought, Action, PAUSE, Observation.\n",
      "At the end of the loop you output an Answer\n",
      "Use Thought to describe your thoughts about the question you have been asked.\n",
      "Use Action to run one of the actions available to you - then return PAUSE.\n",
      "Observation will be the result of running those actions.\n",
      "\n",
      "Your available actions are:\n",
      "\n",
      "calculate:\n",
      "e.g. calculate: 4 * 7 / 3\n",
      "Runs a calculation and returns the number - uses Python so be sure to use floating point syntax if necessary\n",
      "\n",
      "get_planet_mass:\n",
      "e.g. get_planet_mass: Earth\n",
      "returns weight of the planet in kg\n",
      "\n",
      "Example session:\n",
      "\n",
      "Question: What is the mass of Earth times 2?\n",
      "Thought: I need to find the mass of Earth\n",
      "Action: get_planet_mass: Earth\n",
      "PAUSE \n",
      "\n",
      "You will be called again with this:\n",
      "\n",
      "Observation: 5.972e24\n",
      "\n",
      "Thought: I need to multiply this by 2\n",
      "Action: calculate: 5.972e24 * 2\n",
      "PAUSE\n",
      "\n",
      "You will be called again with this: \n",
      "\n",
      "Observation: 1,1944×10e25\n",
      "\n",
      "If you have the answer, output it as the Answer.\n",
      "\n",
      "Answer: The mass of Earth times 2 is 1,1944×10e25.\n",
      "\n",
      "Now it's your turn:\n",
      "what is the mass of Mercury times 5\n",
      "Thought: I need to find the mass of Mercury.\n",
      "\n"
     ]
    }
   ],
   "source": [
    "for msg in agent_obj.messages:\n",
    "    print(msg['content'])"
   ]
  },
  {
   "cell_type": "code",
   "execution_count": null,
   "metadata": {},
   "outputs": [],
   "source": []
  }
 ],
 "metadata": {
  "kernelspec": {
   "display_name": "ai_experiments",
   "language": "python",
   "name": "python3"
  },
  "language_info": {
   "codemirror_mode": {
    "name": "ipython",
    "version": 3
   },
   "file_extension": ".py",
   "mimetype": "text/x-python",
   "name": "python",
   "nbconvert_exporter": "python",
   "pygments_lexer": "ipython3",
   "version": "3.11.11"
  }
 },
 "nbformat": 4,
 "nbformat_minor": 2
}
